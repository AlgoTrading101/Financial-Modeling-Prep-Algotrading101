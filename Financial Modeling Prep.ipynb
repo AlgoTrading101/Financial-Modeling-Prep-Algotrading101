{
 "cells": [
  {
   "cell_type": "code",
   "execution_count": null,
   "id": "5764d87f",
   "metadata": {},
   "outputs": [],
   "source": [
    "import requests\n",
    "import pandas as pd\n",
    "\n",
    "url = 'https://financialmodelingprep.com'\n",
    "api = 'apikey=YOUR-API-KEY-HERE'"
   ]
  },
  {
   "cell_type": "markdown",
   "id": "88e9cb4a",
   "metadata": {},
   "source": [
    "# Financial Statements List"
   ]
  },
  {
   "cell_type": "code",
   "execution_count": null,
   "id": "0790fba8",
   "metadata": {},
   "outputs": [],
   "source": [
    "statements = requests.get(url+'/api/v3/financial-statement-symbol-lists?'+api).json()\n",
    "print(f'List length: {len(statements)}')\n",
    "print(statements[:5])"
   ]
  },
  {
   "cell_type": "markdown",
   "id": "eedfad10",
   "metadata": {},
   "source": [
    "# Financial Statements SEC Zip"
   ]
  },
  {
   "cell_type": "code",
   "execution_count": null,
   "id": "e5c4e132",
   "metadata": {},
   "outputs": [],
   "source": [
    "sec_zip = pd.DataFrame(requests.get(url+'/api/v4/financial-reports-dates?symbol=AAPL&'+api).json())\n",
    "sec_zip.head().T"
   ]
  },
  {
   "cell_type": "markdown",
   "id": "c5578fa1",
   "metadata": {},
   "source": [
    "# Annual reports on From 10-K"
   ]
  },
  {
   "cell_type": "code",
   "execution_count": null,
   "id": "25202e8a",
   "metadata": {},
   "outputs": [],
   "source": [
    "annual_report = requests.get(url+'/api/v4/financial-reports-json?symbol=AAPL&year=2020&period=FY&'+api).json()\n",
    "annual_report"
   ]
  },
  {
   "cell_type": "markdown",
   "id": "113a6dd8",
   "metadata": {},
   "source": [
    "# Shares Float"
   ]
  },
  {
   "cell_type": "code",
   "execution_count": null,
   "id": "3ed6331f",
   "metadata": {},
   "outputs": [],
   "source": [
    "requests.get(url+'/api/v4/shares_float?symbol=AAPL&'+api).json()"
   ]
  },
  {
   "cell_type": "markdown",
   "id": "8eb03629",
   "metadata": {},
   "source": [
    "# RSS feed 8k"
   ]
  },
  {
   "cell_type": "code",
   "execution_count": null,
   "id": "bfa0d0c7",
   "metadata": {},
   "outputs": [],
   "source": [
    "requests.get(url+'/api/v4/rss_feed_8k?from=2021-09-01&to=2021-09-30&limit=2&'+api).json()"
   ]
  },
  {
   "cell_type": "markdown",
   "id": "9f15059d",
   "metadata": {},
   "source": [
    "# Financial Ratios"
   ]
  },
  {
   "cell_type": "code",
   "execution_count": null,
   "id": "2a2523fe",
   "metadata": {},
   "outputs": [],
   "source": [
    "requests.get(url+'/api/v3/ratios-ttm/DBX?limit=10&'+api).json()"
   ]
  },
  {
   "cell_type": "markdown",
   "id": "f05fc571",
   "metadata": {},
   "source": [
    "# Enterprise Value"
   ]
  },
  {
   "cell_type": "code",
   "execution_count": null,
   "id": "13baea2b",
   "metadata": {},
   "outputs": [],
   "source": [
    "requests.get(url+'/api/v3/enterprise-values/FB?limit=2&'+api).json()"
   ]
  },
  {
   "cell_type": "markdown",
   "id": "f9e922ff",
   "metadata": {},
   "source": [
    "# Earnings Calendar"
   ]
  },
  {
   "cell_type": "code",
   "execution_count": null,
   "id": "e8037e6a",
   "metadata": {},
   "outputs": [],
   "source": [
    "requests.get(url+'/api/v3/earning_calendar?'+api).json()"
   ]
  },
  {
   "cell_type": "markdown",
   "id": "4956cf86",
   "metadata": {},
   "source": [
    "# Economic Calendar"
   ]
  },
  {
   "cell_type": "code",
   "execution_count": null,
   "id": "64c7df17",
   "metadata": {},
   "outputs": [],
   "source": [
    "requests.get(url+'/api/v3/economic_calendar?from=2020-08-05&to=2020-10-20&'+api).json()"
   ]
  },
  {
   "cell_type": "markdown",
   "id": "8df2e4ec",
   "metadata": {},
   "source": [
    "# Stock Look-Up Tool"
   ]
  },
  {
   "cell_type": "code",
   "execution_count": null,
   "id": "b1df9144",
   "metadata": {},
   "outputs": [],
   "source": [
    "requests.get(url+'/api/v3/search?query=AA&limit=3&exchange=NASDAQ&'+api).json()"
   ]
  },
  {
   "cell_type": "code",
   "execution_count": null,
   "id": "ab77cab4",
   "metadata": {},
   "outputs": [],
   "source": [
    "requests.get(url+'/api/v3/search-name?query=meta&limit=3&exchange=NASDAQ&'+api).json()"
   ]
  },
  {
   "cell_type": "markdown",
   "id": "bad44c97",
   "metadata": {},
   "source": [
    "# Company Profile"
   ]
  },
  {
   "cell_type": "code",
   "execution_count": null,
   "id": "ee854e7d",
   "metadata": {},
   "outputs": [],
   "source": [
    "requests.get(url+'/api/v3/profile/AMZN?'+api).json()"
   ]
  },
  {
   "cell_type": "markdown",
   "id": "d459fe7a",
   "metadata": {},
   "source": [
    "# Company Outlook"
   ]
  },
  {
   "cell_type": "code",
   "execution_count": null,
   "id": "ddce78ec",
   "metadata": {},
   "outputs": [],
   "source": [
    "requests.get(url+'/api/v4/company-outlook?symbol=AAPL&'+api).json()"
   ]
  },
  {
   "cell_type": "markdown",
   "id": "876f8eed",
   "metadata": {},
   "source": [
    "# News Articles"
   ]
  },
  {
   "cell_type": "code",
   "execution_count": null,
   "id": "ebee4f8c",
   "metadata": {},
   "outputs": [],
   "source": [
    "news = requests.get(url+'/api/v4/articles?page=0&size=5&'+api).json()\n",
    "news"
   ]
  },
  {
   "cell_type": "markdown",
   "id": "95909548",
   "metadata": {},
   "source": [
    "# Market performance\n",
    "## Sector PE Ratio"
   ]
  },
  {
   "cell_type": "code",
   "execution_count": null,
   "id": "3cad60d0",
   "metadata": {},
   "outputs": [],
   "source": [
    "pe_ratio = requests.get(url+'/api/v4/sector_price_earning_ratio?date=2021-05-07&exchange=NYSE&'+api).json()\n",
    "pe_ratio"
   ]
  },
  {
   "cell_type": "markdown",
   "id": "62fe1508",
   "metadata": {},
   "source": [
    "# Social Sentiment"
   ]
  },
  {
   "cell_type": "code",
   "execution_count": null,
   "id": "a716a82f",
   "metadata": {},
   "outputs": [],
   "source": [
    "requests.get(url+'/api/v4/historical/social-sentiment?symbol=AAPL&limit=2&'+api).json()"
   ]
  },
  {
   "cell_type": "markdown",
   "id": "52deed87",
   "metadata": {},
   "source": [
    "# Stock Insider Trading"
   ]
  },
  {
   "cell_type": "code",
   "execution_count": null,
   "id": "b7f3a807",
   "metadata": {},
   "outputs": [],
   "source": [
    "insiders = pd.DataFrame(requests.get(url+'/api/v4/insider-trading?transactionType=P-Purchase,S-Sale&limit=5&'+api).json())\n",
    "insiders.T"
   ]
  },
  {
   "cell_type": "markdown",
   "id": "2e607212",
   "metadata": {},
   "source": [
    "# Company Quote"
   ]
  },
  {
   "cell_type": "code",
   "execution_count": null,
   "id": "9771627b",
   "metadata": {},
   "outputs": [],
   "source": [
    "requests.get(url+'/api/v3/quote/AMZN?'+api).json()"
   ]
  },
  {
   "cell_type": "markdown",
   "id": "759ea989",
   "metadata": {},
   "source": [
    "# Symbols List"
   ]
  },
  {
   "cell_type": "code",
   "execution_count": null,
   "id": "2724fec0",
   "metadata": {},
   "outputs": [],
   "source": [
    "symbols = pd.DataFrame(requests.get(url+'/api/v3/stock/list?'+api).json())\n",
    "symbols.tail().T"
   ]
  }
 ],
 "metadata": {
  "kernelspec": {
   "display_name": "Python 3 (ipykernel)",
   "language": "python",
   "name": "python3"
  },
  "language_info": {
   "codemirror_mode": {
    "name": "ipython",
    "version": 3
   },
   "file_extension": ".py",
   "mimetype": "text/x-python",
   "name": "python",
   "nbconvert_exporter": "python",
   "pygments_lexer": "ipython3",
   "version": "3.8.8"
  }
 },
 "nbformat": 4,
 "nbformat_minor": 5
}
